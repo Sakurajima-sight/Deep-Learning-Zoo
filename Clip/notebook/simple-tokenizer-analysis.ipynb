{
 "cells": [
  {
   "cell_type": "markdown",
   "id": "22642cb0-564a-4df4-8dac-1b4339fd63cd",
   "metadata": {},
   "source": [
    "## BPE (算法核心)\n",
    "#### [Neural Machine Translation of Rare Words with Subword Units](https://arxiv.org/pdf/1508.07909)\n",
    "#### [原始BPE实现](https://github.com/rsennrich/subword-nmt)\n",
    "#### Google实现的BPE库：[SentencePiece](https://github.com/google/sentencepiece)\n",
    "<p align=\"center\">\n",
    "    <img src=\"./assets/BPE.png\" width=\"400\">\n",
    "</p>"
   ]
  },
  {
   "cell_type": "code",
   "execution_count": 12,
   "id": "225d26be-911a-49fb-a170-1fbecf9fd2b8",
   "metadata": {},
   "outputs": [
    {
     "name": "stdout",
     "output_type": "stream",
     "text": [
      "Merge 1: ('e', 's')\n",
      "Merge 2: ('es', 't')\n",
      "Merge 3: ('est', '</w>')\n",
      "Merge 4: ('l', 'o')\n",
      "Merge 5: ('lo', 'w')\n",
      "Merge 6: ('n', 'e')\n",
      "Merge 7: ('ne', 'w')\n",
      "Merge 8: ('new', 'est</w>')\n",
      "Merge 9: ('low', '</w>')\n",
      "Merge 10: ('w', 'i')\n"
     ]
    }
   ],
   "source": [
    "import re\n",
    "import collections\n",
    "\n",
    "def get_stats(vocab):\n",
    "    \"\"\"\n",
    "    统计词汇表中所有相邻符号对（bigram）的出现频率\n",
    "    \"\"\"\n",
    "    pairs = collections.defaultdict(int)\n",
    "    for word, freq in vocab.items():\n",
    "        symbols = word.split()\n",
    "        for i in range(len(symbols) - 1):\n",
    "            pairs[(symbols[i], symbols[i + 1])] += freq\n",
    "    return pairs\n",
    "\n",
    "def merge_vocab(pair, vocab_in):\n",
    "    \"\"\"\n",
    "    根据指定的 bigram 合并词汇表中的词，返回新的词汇表\n",
    "    \"\"\"\n",
    "    vocab_out = {}\n",
    "    bigram = re.escape(' '.join(pair))\n",
    "    pattern = re.compile(r'(?<!\\S)' + bigram + r'(?!\\S)')\n",
    "\n",
    "    for word in vocab_in:\n",
    "        # 将 bigram 替换为合并后的新符号\n",
    "        new_word = pattern.sub(''.join(pair), word)\n",
    "        vocab_out[new_word] = vocab_in[word]\n",
    "\n",
    "    return vocab_out\n",
    "\n",
    "# 初始词汇表，词 -> 频率\n",
    "vocab = {\n",
    "    'l o w </w>': 5,\n",
    "    'l o w e r </w>': 2,\n",
    "    'n e w e s t </w>': 6,\n",
    "    'w i d e s t </w>': 3\n",
    "}\n",
    "\n",
    "# 合并次数\n",
    "num_merges = 10\n",
    "\n",
    "# 执行 BPE 合并\n",
    "for i in range(num_merges):\n",
    "    pairs = get_stats(vocab)\n",
    "    if not pairs:\n",
    "        break\n",
    "\n",
    "    # 找到出现频率最高的 bigram\n",
    "    best_pair = max(pairs, key=pairs.get)\n",
    "\n",
    "    # 执行合并\n",
    "    vocab = merge_vocab(best_pair, vocab)\n",
    "\n",
    "    # 打印当前合并的 bigram\n",
    "    print(f\"Merge {i+1}: {best_pair}\")\n"
   ]
  },
  {
   "cell_type": "code",
   "execution_count": null,
   "id": "a98d0b82-1497-4efb-9e78-319a25382ab5",
   "metadata": {},
   "outputs": [],
   "source": []
  }
 ],
 "metadata": {
  "kernelspec": {
   "display_name": "Python 3 (ipykernel)",
   "language": "python",
   "name": "python3"
  },
  "language_info": {
   "codemirror_mode": {
    "name": "ipython",
    "version": 3
   },
   "file_extension": ".py",
   "mimetype": "text/x-python",
   "name": "python",
   "nbconvert_exporter": "python",
   "pygments_lexer": "ipython3",
   "version": "3.11.11"
  }
 },
 "nbformat": 4,
 "nbformat_minor": 5
}
